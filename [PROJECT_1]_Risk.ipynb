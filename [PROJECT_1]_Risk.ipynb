{
  "nbformat": 4,
  "nbformat_minor": 0,
  "metadata": {
    "colab": {
      "provenance": [],
      "include_colab_link": true
    },
    "kernelspec": {
      "name": "python3",
      "display_name": "Python 3"
    },
    "language_info": {
      "name": "python"
    }
  },
  "cells": [
    {
      "cell_type": "markdown",
      "metadata": {
        "id": "view-in-github",
        "colab_type": "text"
      },
      "source": [
        "<a href=\"https://colab.research.google.com/github/KatrinaJMD/IronHack_GitHub/blob/main/%5BPROJECT_1%5D_Risk.ipynb\" target=\"_parent\"><img src=\"https://colab.research.google.com/assets/colab-badge.svg\" alt=\"Open In Colab\"/></a>"
      ]
    },
    {
      "cell_type": "markdown",
      "source": [
        "## PSEUDOCODE"
      ],
      "metadata": {
        "id": "RRQmyjRXBOHx"
      }
    },
    {
      "cell_type": "markdown",
      "source": [
        "```python\n",
        "RISK GAME SIMULATION\n",
        "\n",
        "# inputs/initialization\n",
        "attacker = has certain number of troupes # player or computer\n",
        "defender = has certain number of troupes # player or computer\n",
        "\n",
        "# sorting values in descending order\n",
        "# in order to compare players' highest troupes per battle\n",
        "attacker_ = [sort troupes in descending order]\n",
        "defender_ = [sort troupes in descending order]\n",
        "\n",
        "attacker_wins = [counts the number of wins for each fight]\n",
        "defender_wins = [counts the number of wins for each fight]\n",
        "\n",
        "fight1 = get highest troupe number from each players\n",
        "fight1 = compare numbers\n",
        "\n",
        "if attacker > defender:\n",
        "    attacher wins\n",
        "elif attacker < defender:\n",
        "    defender wins\n",
        "elif attacker == \n",
        "\n",
        "```"
      ],
      "metadata": {
        "id": "Ue5gQAQICg3-"
      }
    },
    {
      "cell_type": "markdown",
      "source": [
        "## Code"
      ],
      "metadata": {
        "id": "_Ii6-oQ3JmVI"
      }
    },
    {
      "cell_type": "code",
      "source": [
        "def risk():\n",
        "    import random\n",
        "\n",
        "    a = int(input(\"No. of armies to deploy: \"))\n",
        "\n",
        "    a = a\n",
        "    d = a\n",
        "    x = a\n",
        "\n",
        "    while (a != 0) or (d != 0):\n",
        "\n",
        "        lst_a = []\n",
        "        lst_d = []      \n",
        "\n",
        "        for i in range(a):\n",
        "            lst_a.append(random.randrange(1, 11))\n",
        "        for i in range(d):\n",
        "            lst_d.append(random.randrange(1, 11))     \n",
        "\n",
        "        lst_a.sort(reverse=True)\n",
        "        lst_d.sort(reverse=True)        \n",
        "\n",
        "        print(\"\\n\")\n",
        "        print(f\"Attacker = {lst_a}\")\n",
        "        print(f\"Defender = {lst_d}\")     \n",
        "\n",
        "        loss_a = 0\n",
        "        loss_d = 0      \n",
        "\n",
        "\n",
        "        for i in range(x):\n",
        "            if lst_a[i] > lst_d[i]:\n",
        "                loss_d += 1\n",
        "            elif lst_a[i] < lst_d[i]:\n",
        "                loss_a += 1\n",
        "            elif lst_a[i] == lst_d[i]:\n",
        "                loss_a += 1  \n",
        "\n",
        "\n",
        "        a_remain = len(lst_a) - loss_a\n",
        "        d_remain = len(lst_d) - loss_d  \n",
        "        \n",
        "        if a_remain >= d_remain:\n",
        "            x = d_remain\n",
        "        elif a_remain < d_remain:\n",
        "            x = a_remain\n",
        "\n",
        "        print(\"\\n\")\n",
        "        print(f\"Attacker lost {loss_a} armies, {a_remain} armies left.\")\n",
        "        print(f\"Defender lost {loss_d} armies, {d_remain} armies left.\")  \n",
        "              \n",
        "        print(\"\\n\")\n",
        "        if a_remain == 0:\n",
        "            print(\"DEFENDER WINS!!!\")\n",
        "            break\n",
        "        elif d_remain == 0:\n",
        "            print(\"ATTACKER WINS!!!\")\n",
        "            break\n",
        "        #elif a_remain == d_remain | a_remain < d_remain:\n",
        "        #    print(\"DEFENDER WINS!!!\")\n",
        "        #elif a_remain < d_remain:\n",
        "        #    print(\"DEFENDER WINS!!!\")\n",
        "        #elif a_remain > d_remain:\n",
        "        #    print(\"ATTACKER WINS!!!\")    \n",
        "\n",
        "        a = a_remain\n",
        "        d = d_remain    \n",
        "            \n",
        "        print(\"-\" * 50)\n",
        "\n",
        "risk()"
      ],
      "metadata": {
        "id": "DWMm1lcB-qW-"
      },
      "execution_count": 1,
      "outputs": []
    }
  ]
}