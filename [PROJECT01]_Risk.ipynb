{
  "cells": [
    {
      "cell_type": "markdown",
      "metadata": {
        "colab_type": "text",
        "id": "view-in-github"
      },
      "source": [
        "<a href=\"https://colab.research.google.com/github/KatrinaJMD/IronHack_GitHub/blob/main/%5BPROJECT01%5D_Risk.ipynb\" target=\"_parent\"><img src=\"https://colab.research.google.com/assets/colab-badge.svg\" alt=\"Open In Colab\"/></a>"
      ]
    },
    {
      "cell_type": "markdown",
      "metadata": {
        "id": "RRQmyjRXBOHx"
      },
      "source": [
        "## PSEUDOCODE"
      ]
    },
    {
      "cell_type": "markdown",
      "metadata": {
        "id": "Ue5gQAQICg3-"
      },
      "source": [
        "```python\n",
        "RISK GAME SIMULATION\n",
        "\n",
        "# inputs/initialization\n",
        "attacker = has certain number of troupes # player or computer\n",
        "defender = has certain number of troupes # player or computer\n",
        "\n",
        "# sorting values in descending order\n",
        "# in order to compare players' highest troupes per battle\n",
        "attacker_ = [sort troupes in descending order]\n",
        "defender_ = [sort troupes in descending order]\n",
        "\n",
        "attacker_wins = [counts the number of wins for each fight]\n",
        "defender_wins = [counts the number of wins for each fight]\n",
        "\n",
        "fight1 = get highest troupe number from each players\n",
        "fight1 = compare numbers\n",
        "\n",
        "if attacker > defender:\n",
        "    attacher wins\n",
        "elif attacker < defender:\n",
        "    defender wins\n",
        "elif attacker == \n",
        "\n",
        "```"
      ]
    },
    {
      "cell_type": "markdown",
      "metadata": {
        "id": "_Ii6-oQ3JmVI"
      },
      "source": [
        "## Code"
      ]
    },
    {
      "cell_type": "code",
      "execution_count": 1,
      "metadata": {
        "colab": {
          "base_uri": "https://localhost:8080/"
        },
        "id": "DWMm1lcB-qW-",
        "outputId": "239a6dda-fc2c-4442-ca8e-c7687aff81c8"
      },
      "outputs": [],
      "source": [
        "def risk():\n",
        "    \n",
        "    import random\n",
        "\n",
        "    while True:\n",
        "        try:\n",
        "\n",
        "            a = int(input(\"No. of armies to deploy: \"))\n",
        "\n",
        "            a = a\n",
        "            d = a\n",
        "            x = a\n",
        "            rounds = 0\n",
        "\n",
        "            while (a != 0) or (d != 0):\n",
        "            \n",
        "                lst_a = []\n",
        "                lst_d = []\n",
        "\n",
        "                rounds += 1      \n",
        "\n",
        "                for i in range(a):\n",
        "                    lst_a.append(random.randrange(1, 11))\n",
        "                for i in range(d):\n",
        "                    lst_d.append(random.randrange(1, 11))     \n",
        "\n",
        "                lst_a.sort(reverse=True)\n",
        "                lst_d.sort(reverse=True)        \n",
        "\n",
        "                print(\"\\n\")\n",
        "                print(f\"ROUND {rounds}\")\n",
        "                print(\"-\" * 38)\n",
        "                print(f\"Attacker = {lst_a}\")\n",
        "                print(f\"Defender = {lst_d}\")     \n",
        "\n",
        "                loss_a = 0\n",
        "                loss_d = 0      \n",
        "\n",
        "\n",
        "                for i in range(x):\n",
        "                    if lst_a[i] > lst_d[i]:\n",
        "                        loss_d += 1\n",
        "                    elif lst_a[i] < lst_d[i]:\n",
        "                        loss_a += 1\n",
        "                    elif lst_a[i] == lst_d[i]:\n",
        "                        loss_a += 1  \n",
        "\n",
        "\n",
        "                a_remain = len(lst_a) - loss_a\n",
        "                d_remain = len(lst_d) - loss_d  \n",
        "\n",
        "                if a_remain >= d_remain:\n",
        "                    x = d_remain\n",
        "                elif a_remain < d_remain:\n",
        "                    x = a_remain\n",
        "\n",
        "                print(\"\\n\")\n",
        "                print(f\"Attacker lost {loss_a} armies, {a_remain} armies left.\")\n",
        "                print(f\"Defender lost {loss_d} armies, {d_remain} armies left.\")  \n",
        "\n",
        "                print(\"\\n\")\n",
        "                if a_remain < d_remain:\n",
        "                    print(\"DEFENDER WINS!!!\")\n",
        "                elif a_remain == d_remain:\n",
        "                    print(\"DEFENDER WINS!!!\")\n",
        "                elif a_remain > d_remain:\n",
        "                    print(\"ATTACKER WINS!!!\")\n",
        "\n",
        "                print(\"\\n\")\n",
        "                if a_remain == 0:\n",
        "                    # print(\"DEFENDER WINS!!!\")\n",
        "                    break\n",
        "                elif d_remain == 0:\n",
        "                    # print(\"ATTACKER WINS!!!\")\n",
        "                    break   \n",
        "\n",
        "                a = a_remain\n",
        "                d = d_remain\n",
        "\n",
        "        except ValueError:\n",
        "            print(\"Invalid input. Please enter a number.\")\n",
        "            continue\n",
        "\n",
        "        print(\"\\n\")\n",
        "        choice = input(\"Do you want to play again (y/n): \")\n",
        "        while choice.lower() not in [\"y\",\"n\"]:\n",
        "            choice = input(\"Please choose yes (y) or no (n): \")\n",
        "        if choice.lower() == \"n\":\n",
        "            print(\"Okay. Have a great day!\")\n",
        "            break\n",
        "        print(\"\\n\")"
      ]
    },
    {
      "attachments": {},
      "cell_type": "markdown",
      "metadata": {},
      "source": [
        "## Play"
      ]
    },
    {
      "cell_type": "code",
      "execution_count": 2,
      "metadata": {},
      "outputs": [
        {
          "name": "stdout",
          "output_type": "stream",
          "text": [
            "\n",
            "\n",
            "ROUND 1\n",
            "--------------------------------------\n",
            "Attacker = [9, 5, 1, 1]\n",
            "Defender = [4, 4, 2, 1]\n",
            "\n",
            "\n",
            "Attacker lost 2 armies, 2 armies left.\n",
            "Defender lost 2 armies, 2 armies left.\n",
            "\n",
            "\n",
            "DEFENDER WINS!!!\n",
            "\n",
            "\n",
            "\n",
            "\n",
            "ROUND 2\n",
            "--------------------------------------\n",
            "Attacker = [6, 4]\n",
            "Defender = [9, 1]\n",
            "\n",
            "\n",
            "Attacker lost 1 armies, 1 armies left.\n",
            "Defender lost 1 armies, 1 armies left.\n",
            "\n",
            "\n",
            "DEFENDER WINS!!!\n",
            "\n",
            "\n",
            "\n",
            "\n",
            "ROUND 3\n",
            "--------------------------------------\n",
            "Attacker = [7]\n",
            "Defender = [2]\n",
            "\n",
            "\n",
            "Attacker lost 0 armies, 1 armies left.\n",
            "Defender lost 1 armies, 0 armies left.\n",
            "\n",
            "\n",
            "ATTACKER WINS!!!\n",
            "\n",
            "\n",
            "\n",
            "\n",
            "\n",
            "\n",
            "\n",
            "\n",
            "ROUND 1\n",
            "--------------------------------------\n",
            "Attacker = [10, 8, 7, 4]\n",
            "Defender = [9, 1, 1, 1]\n",
            "\n",
            "\n",
            "Attacker lost 0 armies, 4 armies left.\n",
            "Defender lost 4 armies, 0 armies left.\n",
            "\n",
            "\n",
            "ATTACKER WINS!!!\n",
            "\n",
            "\n",
            "\n",
            "\n",
            "Okay. Have a great day!\n"
          ]
        }
      ],
      "source": [
        "risk()"
      ]
    }
  ],
  "metadata": {
    "colab": {
      "include_colab_link": true,
      "provenance": []
    },
    "kernelspec": {
      "display_name": "Python 3",
      "name": "python3"
    },
    "language_info": {
      "codemirror_mode": {
        "name": "ipython",
        "version": 3
      },
      "file_extension": ".py",
      "mimetype": "text/x-python",
      "name": "python",
      "nbconvert_exporter": "python",
      "pygments_lexer": "ipython3",
      "version": "3.9.6"
    }
  },
  "nbformat": 4,
  "nbformat_minor": 0
}
